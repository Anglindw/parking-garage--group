{
 "cells": [
  {
   "cell_type": "code",
   "execution_count": 14,
   "id": "e0878101",
   "metadata": {},
   "outputs": [
    {
     "name": "stdout",
     "output_type": "stream",
     "text": [
      "I'm sorry that is an invalid input. Please try again.\n",
      "You have ticket number 10.\n",
      "You have ticket number 9.\n",
      "You have ticket number 8.\n",
      "You have ticket number 7.\n",
      "You have to pay first!\n",
      "Ticket number 8 has been paid!\n",
      "You still have unpaid tickets.\n",
      "Ticket number 9 has been paid!\n"
     ]
    }
   ],
   "source": [
    "class Pgarage():\n",
    "\n",
    "    def __init__(self):\n",
    "        self.amount_of_tickets = [1, 2, 3, 4, 5, 6, 7, 8, 9, 10]  # Ashley\n",
    "        self. parking_spaces = [False, False, False, False,\n",
    "                                False, False, False, False, False, False]  # Ashley\n",
    "        self.ticket_in_use = []\n",
    "        self.currentTicket = {'paid': False}\n",
    "        self.ticket_Taken = {'parked': False}\n",
    "        self.ticket = 0\n",
    "\n",
    "    def takeTicket(self):  # Ashley\n",
    "        try:\n",
    "            self.ticket_in_use.insert(0, self.amount_of_tickets.pop())\n",
    "            # self.ticket_in_use.sort()\n",
    "            self.parking_spaces[self.ticket_in_use[0] - 1] = True\n",
    "            self.ticket_Taken['parked'] = True\n",
    "            self.currentTicket['paid'] = False\n",
    "            print(f'You have ticket number {self.ticket_in_use[0]}.')\n",
    "        except:\n",
    "            print('Sorry, there are no more parking spots available.')\n",
    "\n",
    "    def payforParking(self):\n",

    "        self.ticket = input('What ticket would you like to pay for?')\n",
    "        if int(self.ticket) in self.ticket_in_use:\n",

    "        ticket = input('What ticket would you like to pay for?')\n",
    "        if ticket in self.ticket_in_use:\n",
    "            self.ticket_in_use\n",
    "            \n",
    "            payment = int(input(f\"Hello the cost for parking is $20 dollars\"))\n",
    "            if payment >= 20 :\n",
    "\n",
    "            payment = input(f\"The cost for parking is $20 dollars\")\n",
    "            if int(payment) >= 20:\n",
    "\n",
    "                print(f'Ticket number {self.ticket} has been paid!')\n",
    "\n",
    "                self.amount_of_tickets.append(int(self.ticket))\n",
    "                self.amount_of_tickets.sort()\n",
    "\n",
    "                self.currentTicket['paid'] = True\n",
    "\n",
    "            else:\n",
    "                print(f'I am sorry that is not enough or not valid')\n",
    "                self.currentTicket['paid'] = False\n",
    "        else:\n",
    "            print(f'I am sorry that is not a valid ticket number')\n",
    "\n",
    "    def leaveGarage(self):  # Nick\n",
    "        if self.currentTicket['paid'] == True:\n",
    "\n",
    "            self.parking_spaces[int(self.ticket) - 1] = False\n",
    "\n",
    "            if self.ticket_in_use:\n",
    "                print('You still have unpaid tickets.')\n",
    "                self.payforParking()\n",
    "            else:\n",
    "                print('Thank you, have nice day!')\n",
    "\n",
    "        elif self.currentTicket['paid'] == False:\n",
    "            print('You have to pay first!')\n",
    "            self.payforParking()\n",
    "\n",
    "            if self.ticket_in_use:\n",
    "                print('You still have unpaid tickets.')\n",
    "                self.payforParking()\n",
    "            else:\n",
    "                print('Thank you, have nice day!')\n",
    "                self.parking_spaces[int(self.ticket) - 1] = False\n",
    "\n",
    "    def runner(self):  # Ashley\n",
    "\n",
    "        while True:\n",
    "            user_ = input(\n",
    "                'Welcome to my garage. Please start by taking a ticket. (take a ticket) ([Q] to quit)').lower()\n",
    "            if user_.upper() != 'Q':\n",
    "                if user_ == 'take':\n",
    "                    self.takeTicket()\n",
    "                elif user_ == 'pay' and self.ticket_Taken['parked'] == True:\n",
    "\n",
    "                    self.payforParking()\n",
    "                elif user_ == 'leave' and self.ticket_Taken['parked'] == True:\n",
    "                    self.leaveGarage()\n",
    "                else:\n",
    "                    print('I\\'m sorry that is an invalid input. Please try again.')\n",
    "            else:\n",
    "                break\n",
    "\n",
    "\n",
    "test = Pgarage()\n",
    "\n",
    "test.runner()\n"
   ]
  },
  {
   "cell_type": "code",
   "execution_count": null,
   "id": "ccdc424a",
   "metadata": {},
   "outputs": [],
   "source": []
  }
 ],
 "metadata": {
  "kernelspec": {
   "display_name": "Python 3.9.7 64-bit",
   "language": "python",
   "name": "python3"
  },
  "language_info": {
   "codemirror_mode": {
    "name": "ipython",
    "version": 3
   },
   "file_extension": ".py",
   "mimetype": "text/x-python",
   "name": "python",
   "nbconvert_exporter": "python",
   "pygments_lexer": "ipython3",
   "version": "3.9.7"
  },
  "vscode": {
   "interpreter": {
    "hash": "aee8b7b246df8f9039afb4144a1f6fd8d2ca17a180786b69acc140d282b71a49"
   }
  }
 },
 "nbformat": 4,
 "nbformat_minor": 5
}
