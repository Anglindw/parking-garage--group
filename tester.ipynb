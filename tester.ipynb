{
 "cells": [
  {
   "cell_type": "code",
   "execution_count": 1,
   "id": "e0878101",
   "metadata": {},
   "outputs": [
    {
     "name": "stdout",
     "output_type": "stream",
     "text": [
      "Welcome to my garage. Please start by taking a ticket. (take a ticket) take a ticket\n",
      "Hello the cost for parking is $20 dollars4\n",
      "I am sorry that is not enough.\n"
     ]
    },
    {
     "ename": "AttributeError",
     "evalue": "'Pgarage' object has no attribute 'leaveGgarage'",
     "output_type": "error",
     "traceback": [
      "\u001b[1;31m---------------------------------------------------------------------------\u001b[0m",
      "\u001b[1;31mAttributeError\u001b[0m                            Traceback (most recent call last)",
      "Cell \u001b[1;32mIn [1], line 44\u001b[0m\n\u001b[0;32m     42\u001b[0m             \u001b[38;5;28mprint\u001b[39m(\u001b[38;5;124m'\u001b[39m\u001b[38;5;124mI\u001b[39m\u001b[38;5;130;01m\\'\u001b[39;00m\u001b[38;5;124mm sorry that is an invalid input. Please try again.\u001b[39m\u001b[38;5;124m'\u001b[39m) \n\u001b[0;32m     43\u001b[0m test \u001b[38;5;241m=\u001b[39m Pgarage()\n\u001b[1;32m---> 44\u001b[0m \u001b[43mtest\u001b[49m\u001b[38;5;241;43m.\u001b[39;49m\u001b[43mrunner\u001b[49m\u001b[43m(\u001b[49m\u001b[43m)\u001b[49m\n",
      "Cell \u001b[1;32mIn [1], line 40\u001b[0m, in \u001b[0;36mPgarage.runner\u001b[1;34m(self)\u001b[0m\n\u001b[0;32m     38\u001b[0m     \u001b[38;5;28mself\u001b[39m\u001b[38;5;241m.\u001b[39mtakeTicket() \n\u001b[0;32m     39\u001b[0m     \u001b[38;5;28mself\u001b[39m\u001b[38;5;241m.\u001b[39mpayforParking()\n\u001b[1;32m---> 40\u001b[0m     \u001b[38;5;28;43mself\u001b[39;49m\u001b[38;5;241;43m.\u001b[39;49m\u001b[43mleaveGgarage\u001b[49m()\n\u001b[0;32m     41\u001b[0m \u001b[38;5;28;01melse\u001b[39;00m: \n\u001b[0;32m     42\u001b[0m     \u001b[38;5;28mprint\u001b[39m(\u001b[38;5;124m'\u001b[39m\u001b[38;5;124mI\u001b[39m\u001b[38;5;130;01m\\'\u001b[39;00m\u001b[38;5;124mm sorry that is an invalid input. Please try again.\u001b[39m\u001b[38;5;124m'\u001b[39m)\n",
      "\u001b[1;31mAttributeError\u001b[0m: 'Pgarage' object has no attribute 'leaveGgarage'"
     ]
    }
   ],
   "source": [
    "class Pgarage():\n",
    "\n",
    "    def __init__(self):\n",
    "       self.amount_of_tickets = [10] # Ashley\n",
    "       self. parking_spaces = [10] # Ashley\n",
    "       self.currentTicket = { 'paid': False}\n",
    "        self.ticket_taken = {'parked': True}\n",
    "\n",
    "    def takeTicket(self): # Ashley\n",
    "        return ('Here is your ticket. Have a nice day!')   \n",
    "        self.amount_of_tickets -= 1 \n",
    "        self.parking_spaces -= 1 \n",
    "\n",
    "\n",
    "    def payforParking(self):\n",
    "        payment = int(input (f\"Hello the cost for parking is $20 dollars\"))\n",
    "\n",
    "        if payment >= 20:\n",
    "            self.currentTicket['paid'] == True\n",
    "\n",
    "        else:\n",
    "            print(f'I am sorry that is not enough.')\n",
    "            self.currentTicket['paid'] == False\n",
    "\n",
    "        pass\n",
    "\n",
    "    def leaveGarage(self):  # Nick\n",
    "        if self.currentTicket['paid'] == True:\n",
    "            return 'Thank you, have nice day!'\n",
    "        else:\n",
    "            self.payForParking()\n",
    "            return 'Thank you, have nice day!'\n",
    "        self.parkingSpaces += 1\n",
    "        self.tickets += 1\n",
    "\n",
    "    def runner(self): # Ashley\n",
    "        user_ = input('Welcome to my garage.What would you like to do? ( Take ticket, Pay, or Leave) ').lower() \n",
    "        if user_ == 'take a ticket': \n",
    "            self.takeTicket()\n",
    "        if user == 'pay'\n",
    "            self.payforParking()\n",
    "            self.leaveGgarage()\n",
    "        else: \n",
    "            print('I\\'m sorry that is an invalid input. Please try again.') \n",
    "test = Pgarage()\n",
    "test.runner()"
   ]
  }
 ],
 "metadata": {
  "kernelspec": {
   "display_name": "Python 3 (ipykernel)",
   "language": "python",
   "name": "python3"
  },
  "language_info": {
   "codemirror_mode": {
    "name": "ipython",
    "version": 3
   },
   "file_extension": ".py",
   "mimetype": "text/x-python",
   "name": "python",
   "nbconvert_exporter": "python",
   "pygments_lexer": "ipython3",
   "version": "3.9.12"
  }
 },
 "nbformat": 4,
 "nbformat_minor": 5
}
