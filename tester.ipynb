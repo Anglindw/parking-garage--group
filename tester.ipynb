{
 "cells": [
  {
   "cell_type": "code",
   "execution_count": 2,
   "id": "e0878101",
   "metadata": {},
   "outputs": [
    {
     "name": "stdout",
     "output_type": "stream",
     "text": [
      "Welcome to my garage. Please start by taking a ticket. (take a ticket) take a tickey\n",
      "I'm sorry that is an invalid input. Please try again.\n",
      "Welcome to my garage. Please start by taking a ticket. (take a ticket) take a ticket\n",
      "Welcome to my garage. Please start by taking a ticket. (take a ticket) pay\n",
      "Hello the cost for parking is $20 dollars20\n"
     ]
    },
    {
     "ename": "IndexError",
     "evalue": "list index out of range",
     "output_type": "error",
     "traceback": [
      "\u001b[1;31m---------------------------------------------------------------------------\u001b[0m",
      "\u001b[1;31mIndexError\u001b[0m                                Traceback (most recent call last)",
      "Cell \u001b[1;32mIn [2], line 55\u001b[0m\n\u001b[0;32m     52\u001b[0m                 \u001b[38;5;28mprint\u001b[39m(\u001b[38;5;124m'\u001b[39m\u001b[38;5;124mI\u001b[39m\u001b[38;5;130;01m\\'\u001b[39;00m\u001b[38;5;124mm sorry that is an invalid input. Please try again.\u001b[39m\u001b[38;5;124m'\u001b[39m) \n\u001b[0;32m     54\u001b[0m test \u001b[38;5;241m=\u001b[39m Pgarage()\n\u001b[1;32m---> 55\u001b[0m \u001b[43mtest\u001b[49m\u001b[38;5;241;43m.\u001b[39;49m\u001b[43mrunner\u001b[49m\u001b[43m(\u001b[49m\u001b[43m)\u001b[49m\n",
      "Cell \u001b[1;32mIn [2], line 48\u001b[0m, in \u001b[0;36mPgarage.runner\u001b[1;34m(self)\u001b[0m\n\u001b[0;32m     46\u001b[0m     \u001b[38;5;28mself\u001b[39m\u001b[38;5;241m.\u001b[39mtakeTicket() \n\u001b[0;32m     47\u001b[0m \u001b[38;5;28;01melif\u001b[39;00m user_ \u001b[38;5;241m==\u001b[39m \u001b[38;5;124m'\u001b[39m\u001b[38;5;124mpay\u001b[39m\u001b[38;5;124m'\u001b[39m \u001b[38;5;129;01mand\u001b[39;00m \u001b[38;5;28mself\u001b[39m\u001b[38;5;241m.\u001b[39mticket_Taken[\u001b[38;5;124m'\u001b[39m\u001b[38;5;124mparked\u001b[39m\u001b[38;5;124m'\u001b[39m] \u001b[38;5;241m==\u001b[39m \u001b[38;5;28;01mTrue\u001b[39;00m:\n\u001b[1;32m---> 48\u001b[0m     \u001b[38;5;28;43mself\u001b[39;49m\u001b[38;5;241;43m.\u001b[39;49m\u001b[43mpayforParking\u001b[49m\u001b[43m(\u001b[49m\u001b[43m)\u001b[49m\n\u001b[0;32m     49\u001b[0m \u001b[38;5;28;01melif\u001b[39;00m user_ \u001b[38;5;241m==\u001b[39m \u001b[38;5;124m'\u001b[39m\u001b[38;5;124mleave\u001b[39m\u001b[38;5;124m'\u001b[39m \u001b[38;5;129;01mand\u001b[39;00m \u001b[38;5;28mself\u001b[39m\u001b[38;5;241m.\u001b[39mticket_Taken[\u001b[38;5;124m'\u001b[39m\u001b[38;5;124mparked\u001b[39m\u001b[38;5;124m'\u001b[39m] \u001b[38;5;241m==\u001b[39m \u001b[38;5;28;01mTrue\u001b[39;00m:\n\u001b[0;32m     50\u001b[0m     \u001b[38;5;28mself\u001b[39m\u001b[38;5;241m.\u001b[39mleaveGgarage()\n",
      "Cell \u001b[1;32mIn [2], line 23\u001b[0m, in \u001b[0;36mPgarage.payforParking\u001b[1;34m(self)\u001b[0m\n\u001b[0;32m     19\u001b[0m payment \u001b[38;5;241m=\u001b[39m \u001b[38;5;28mint\u001b[39m(\u001b[38;5;28minput\u001b[39m (\u001b[38;5;124mf\u001b[39m\u001b[38;5;124m\"\u001b[39m\u001b[38;5;124mHello the cost for parking is $20 dollars\u001b[39m\u001b[38;5;124m\"\u001b[39m))\n\u001b[0;32m     21\u001b[0m \u001b[38;5;28;01mif\u001b[39;00m payment \u001b[38;5;241m>\u001b[39m\u001b[38;5;241m=\u001b[39m \u001b[38;5;241m20\u001b[39m:\n\u001b[1;32m---> 23\u001b[0m     \u001b[38;5;28mself\u001b[39m\u001b[38;5;241m.\u001b[39mamount_of_tickets[\u001b[38;5;28mself\u001b[39m\u001b[38;5;241m.\u001b[39mticket_number] \u001b[38;5;241m+\u001b[39m\u001b[38;5;241m=\u001b[39m \u001b[38;5;28mself\u001b[39m\u001b[38;5;241m.\u001b[39mticket_number\n\u001b[0;32m     25\u001b[0m     \u001b[38;5;28mself\u001b[39m\u001b[38;5;241m.\u001b[39mcurrentTicket[\u001b[38;5;124m'\u001b[39m\u001b[38;5;124mpaid\u001b[39m\u001b[38;5;124m'\u001b[39m] \u001b[38;5;241m==\u001b[39m \u001b[38;5;28;01mTrue\u001b[39;00m\n\u001b[0;32m     27\u001b[0m \u001b[38;5;28;01melse\u001b[39;00m:\n",
      "\u001b[1;31mIndexError\u001b[0m: list index out of range"
     ]
    }
   ],
   "source": [
    "class Pgarage():\n",
    "\n",
    "    def __init__(self):\n",
    "\n",
    "       self.amount_of_tickets = [1,2,3,4,5,6,7,8,9,10] # Ashley\n",
    "       self. parking_spaces = [False, False, False, False, False, False, False, False, False, False] # Ashley\n",
    "       self.ticket_number = ''\n",
    "       self.currentTicket = { 'paid': False}\n",
    "       self.ticket_Taken = {'parked': False}\n",
    "\n",
    "\n",
    "    def takeTicket(self): # Ashley\n",
    "        self.ticket_number = self.amount_of_tickets.pop()\n",
    "        self.parking_spaces[self.ticket_number - 1] = True\n",
    "        self.ticket_Taken['parked'] = True\n",
    "        return (f'You have ticket number {self.ticket_number}.') \n",
    "        \n",
    "    def payforParking(self):\n",
    "        payment = int(input (f\"Hello the cost for parking is $20 dollars\"))\n",
    "\n",
    "        if payment >= 20:\n",
    "            \n",
    "            self.amount_of_tickets.insert(self.ticket_number -1, self.ticket_number)\n",
    "\n",
    "            self.currentTicket['paid'] == True\n",
    "\n",
    "        else:\n",
    "            print(f'I am sorry that is not enough.')\n",
    "            self.currentTicket['paid'] == False\n",
    "\n",
    "        pass\n",
    "\n",
    "    def leaveGarage(self):  # Nick\n",
    "        if self.currentTicket['paid'] == True:\n",
    "            self.parking_spaces[self.ticket_number - 1] = False\n",
    "            return 'Thank you, have nice day!'\n",
    "        else:\n",
    "            self.payForParking()\n",
    "            return 'Thank you, have nice day!'\n",
    "\n",
    "    def runner(self): # Ashley\n",
    "        \n",
    "        while True:\n",
    "            user_ = input('Welcome to my garage. Please start by taking a ticket. (take a ticket) ').lower() \n",
    "            if user_ == 'take a ticket': \n",
    "                self.takeTicket() \n",
    "            elif user_ == 'pay' and self.ticket_Taken['parked'] == True:\n",
    "                self.payforParking()\n",
    "            elif user_ == 'leave' and self.ticket_Taken['parked'] == True:\n",
    "                self.leaveGgarage()\n",
    "            else: \n",
    "                print('I\\'m sorry that is an invalid input. Please try again.') \n",
    " \n",
    "test = Pgarage()\n",
    "test.runner()"
   ]
  }
 ],
 "metadata": {
  "kernelspec": {
   "display_name": "Python 3 (ipykernel)",
   "language": "python",
   "name": "python3"
  },
  "language_info": {
   "codemirror_mode": {
    "name": "ipython",
    "version": 3
   },
   "file_extension": ".py",
   "mimetype": "text/x-python",
   "name": "python",
   "nbconvert_exporter": "python",
   "pygments_lexer": "ipython3",
   "version": "3.9.12"
  }
 },
 "nbformat": 4,
 "nbformat_minor": 5
}
